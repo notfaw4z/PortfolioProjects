{
 "cells": [
  {
   "cell_type": "markdown",
   "id": "2b1d5d83",
   "metadata": {},
   "source": [
    "In this project, the goal is to find which features of the movie are highly correlated to the gross earnings."
   ]
  },
  {
   "cell_type": "markdown",
   "id": "10dd4bb3",
   "metadata": {},
   "source": [
    "# 1. Import Libraries"
   ]
  },
  {
   "cell_type": "code",
   "execution_count": 1,
   "id": "a8b071c6",
   "metadata": {},
   "outputs": [],
   "source": [
    "import numpy as np\n",
    "import pandas as pd\n",
    "import seaborn as sns\n",
    "import matplotlib.pyplot as plt\n",
    "#plt.style.use('ggplot')\n",
    "from matplotlib.pyplot import figure\n",
    "%matplotlib inline"
   ]
  },
  {
   "cell_type": "markdown",
   "id": "4337b536",
   "metadata": {},
   "source": [
    "# 2. Reading data"
   ]
  },
  {
   "cell_type": "code",
   "execution_count": 2,
   "id": "75d3c260",
   "metadata": {},
   "outputs": [],
   "source": [
    "df=pd.read_csv('movies.csv')"
   ]
  },
  {
   "cell_type": "code",
   "execution_count": 3,
   "id": "4989e917",
   "metadata": {},
   "outputs": [
    {
     "data": {
      "text/html": [
       "<div>\n",
       "<style scoped>\n",
       "    .dataframe tbody tr th:only-of-type {\n",
       "        vertical-align: middle;\n",
       "    }\n",
       "\n",
       "    .dataframe tbody tr th {\n",
       "        vertical-align: top;\n",
       "    }\n",
       "\n",
       "    .dataframe thead th {\n",
       "        text-align: right;\n",
       "    }\n",
       "</style>\n",
       "<table border=\"1\" class=\"dataframe\">\n",
       "  <thead>\n",
       "    <tr style=\"text-align: right;\">\n",
       "      <th></th>\n",
       "      <th>name</th>\n",
       "      <th>rating</th>\n",
       "      <th>genre</th>\n",
       "      <th>year</th>\n",
       "      <th>released</th>\n",
       "      <th>score</th>\n",
       "      <th>votes</th>\n",
       "      <th>director</th>\n",
       "      <th>writer</th>\n",
       "      <th>star</th>\n",
       "      <th>country</th>\n",
       "      <th>budget</th>\n",
       "      <th>gross</th>\n",
       "      <th>company</th>\n",
       "      <th>runtime</th>\n",
       "    </tr>\n",
       "  </thead>\n",
       "  <tbody>\n",
       "    <tr>\n",
       "      <th>0</th>\n",
       "      <td>The Shining</td>\n",
       "      <td>R</td>\n",
       "      <td>Drama</td>\n",
       "      <td>1980</td>\n",
       "      <td>June 13, 1980 (United States)</td>\n",
       "      <td>8.4</td>\n",
       "      <td>927000.0</td>\n",
       "      <td>Stanley Kubrick</td>\n",
       "      <td>Stephen King</td>\n",
       "      <td>Jack Nicholson</td>\n",
       "      <td>United Kingdom</td>\n",
       "      <td>19000000.0</td>\n",
       "      <td>46998772.0</td>\n",
       "      <td>Warner Bros.</td>\n",
       "      <td>146.0</td>\n",
       "    </tr>\n",
       "    <tr>\n",
       "      <th>1</th>\n",
       "      <td>The Blue Lagoon</td>\n",
       "      <td>R</td>\n",
       "      <td>Adventure</td>\n",
       "      <td>1980</td>\n",
       "      <td>July 2, 1980 (United States)</td>\n",
       "      <td>5.8</td>\n",
       "      <td>65000.0</td>\n",
       "      <td>Randal Kleiser</td>\n",
       "      <td>Henry De Vere Stacpoole</td>\n",
       "      <td>Brooke Shields</td>\n",
       "      <td>United States</td>\n",
       "      <td>4500000.0</td>\n",
       "      <td>58853106.0</td>\n",
       "      <td>Columbia Pictures</td>\n",
       "      <td>104.0</td>\n",
       "    </tr>\n",
       "    <tr>\n",
       "      <th>2</th>\n",
       "      <td>Star Wars: Episode V - The Empire Strikes Back</td>\n",
       "      <td>PG</td>\n",
       "      <td>Action</td>\n",
       "      <td>1980</td>\n",
       "      <td>June 20, 1980 (United States)</td>\n",
       "      <td>8.7</td>\n",
       "      <td>1200000.0</td>\n",
       "      <td>Irvin Kershner</td>\n",
       "      <td>Leigh Brackett</td>\n",
       "      <td>Mark Hamill</td>\n",
       "      <td>United States</td>\n",
       "      <td>18000000.0</td>\n",
       "      <td>538375067.0</td>\n",
       "      <td>Lucasfilm</td>\n",
       "      <td>124.0</td>\n",
       "    </tr>\n",
       "    <tr>\n",
       "      <th>3</th>\n",
       "      <td>Airplane!</td>\n",
       "      <td>PG</td>\n",
       "      <td>Comedy</td>\n",
       "      <td>1980</td>\n",
       "      <td>July 2, 1980 (United States)</td>\n",
       "      <td>7.7</td>\n",
       "      <td>221000.0</td>\n",
       "      <td>Jim Abrahams</td>\n",
       "      <td>Jim Abrahams</td>\n",
       "      <td>Robert Hays</td>\n",
       "      <td>United States</td>\n",
       "      <td>3500000.0</td>\n",
       "      <td>83453539.0</td>\n",
       "      <td>Paramount Pictures</td>\n",
       "      <td>88.0</td>\n",
       "    </tr>\n",
       "    <tr>\n",
       "      <th>4</th>\n",
       "      <td>Caddyshack</td>\n",
       "      <td>R</td>\n",
       "      <td>Comedy</td>\n",
       "      <td>1980</td>\n",
       "      <td>July 25, 1980 (United States)</td>\n",
       "      <td>7.3</td>\n",
       "      <td>108000.0</td>\n",
       "      <td>Harold Ramis</td>\n",
       "      <td>Brian Doyle-Murray</td>\n",
       "      <td>Chevy Chase</td>\n",
       "      <td>United States</td>\n",
       "      <td>6000000.0</td>\n",
       "      <td>39846344.0</td>\n",
       "      <td>Orion Pictures</td>\n",
       "      <td>98.0</td>\n",
       "    </tr>\n",
       "  </tbody>\n",
       "</table>\n",
       "</div>"
      ],
      "text/plain": [
       "                                             name rating      genre  year  \\\n",
       "0                                     The Shining      R      Drama  1980   \n",
       "1                                 The Blue Lagoon      R  Adventure  1980   \n",
       "2  Star Wars: Episode V - The Empire Strikes Back     PG     Action  1980   \n",
       "3                                       Airplane!     PG     Comedy  1980   \n",
       "4                                      Caddyshack      R     Comedy  1980   \n",
       "\n",
       "                        released  score      votes         director  \\\n",
       "0  June 13, 1980 (United States)    8.4   927000.0  Stanley Kubrick   \n",
       "1   July 2, 1980 (United States)    5.8    65000.0   Randal Kleiser   \n",
       "2  June 20, 1980 (United States)    8.7  1200000.0   Irvin Kershner   \n",
       "3   July 2, 1980 (United States)    7.7   221000.0     Jim Abrahams   \n",
       "4  July 25, 1980 (United States)    7.3   108000.0     Harold Ramis   \n",
       "\n",
       "                    writer            star         country      budget  \\\n",
       "0             Stephen King  Jack Nicholson  United Kingdom  19000000.0   \n",
       "1  Henry De Vere Stacpoole  Brooke Shields   United States   4500000.0   \n",
       "2           Leigh Brackett     Mark Hamill   United States  18000000.0   \n",
       "3             Jim Abrahams     Robert Hays   United States   3500000.0   \n",
       "4       Brian Doyle-Murray     Chevy Chase   United States   6000000.0   \n",
       "\n",
       "         gross             company  runtime  \n",
       "0   46998772.0        Warner Bros.    146.0  \n",
       "1   58853106.0   Columbia Pictures    104.0  \n",
       "2  538375067.0           Lucasfilm    124.0  \n",
       "3   83453539.0  Paramount Pictures     88.0  \n",
       "4   39846344.0      Orion Pictures     98.0  "
      ]
     },
     "execution_count": 3,
     "metadata": {},
     "output_type": "execute_result"
    }
   ],
   "source": [
    "#Let's look at the data\n",
    "df.head()"
   ]
  },
  {
   "cell_type": "code",
   "execution_count": 4,
   "id": "e9573d50",
   "metadata": {},
   "outputs": [
    {
     "name": "stdout",
     "output_type": "stream",
     "text": [
      "<class 'pandas.core.frame.DataFrame'>\n",
      "RangeIndex: 7668 entries, 0 to 7667\n",
      "Data columns (total 15 columns):\n",
      " #   Column    Non-Null Count  Dtype  \n",
      "---  ------    --------------  -----  \n",
      " 0   name      7668 non-null   object \n",
      " 1   rating    7591 non-null   object \n",
      " 2   genre     7668 non-null   object \n",
      " 3   year      7668 non-null   int64  \n",
      " 4   released  7666 non-null   object \n",
      " 5   score     7665 non-null   float64\n",
      " 6   votes     7665 non-null   float64\n",
      " 7   director  7668 non-null   object \n",
      " 8   writer    7665 non-null   object \n",
      " 9   star      7667 non-null   object \n",
      " 10  country   7665 non-null   object \n",
      " 11  budget    5497 non-null   float64\n",
      " 12  gross     7479 non-null   float64\n",
      " 13  company   7651 non-null   object \n",
      " 14  runtime   7664 non-null   float64\n",
      "dtypes: float64(5), int64(1), object(9)\n",
      "memory usage: 898.7+ KB\n"
     ]
    }
   ],
   "source": [
    "df.info()"
   ]
  },
  {
   "cell_type": "markdown",
   "id": "21d05d22",
   "metadata": {},
   "source": [
    "# 3. Data Cleaning"
   ]
  },
  {
   "cell_type": "code",
   "execution_count": 5,
   "id": "e994a57b",
   "metadata": {},
   "outputs": [
    {
     "data": {
      "text/plain": [
       "name           0\n",
       "rating        77\n",
       "genre          0\n",
       "year           0\n",
       "released       2\n",
       "score          3\n",
       "votes          3\n",
       "director       0\n",
       "writer         3\n",
       "star           1\n",
       "country        3\n",
       "budget      2171\n",
       "gross        189\n",
       "company       17\n",
       "runtime        4\n",
       "dtype: int64"
      ]
     },
     "execution_count": 5,
     "metadata": {},
     "output_type": "execute_result"
    }
   ],
   "source": [
    "#Check for missing data\n",
    "df.isnull().sum()"
   ]
  },
  {
   "cell_type": "code",
   "execution_count": 6,
   "id": "f9c7c22d",
   "metadata": {},
   "outputs": [],
   "source": [
    "#Dropping null values\n",
    "df1 = df.dropna()"
   ]
  },
  {
   "cell_type": "code",
   "execution_count": 7,
   "id": "0721e879",
   "metadata": {},
   "outputs": [
    {
     "data": {
      "text/plain": [
       "name        0\n",
       "rating      0\n",
       "genre       0\n",
       "year        0\n",
       "released    0\n",
       "score       0\n",
       "votes       0\n",
       "director    0\n",
       "writer      0\n",
       "star        0\n",
       "country     0\n",
       "budget      0\n",
       "gross       0\n",
       "company     0\n",
       "runtime     0\n",
       "dtype: int64"
      ]
     },
     "execution_count": 7,
     "metadata": {},
     "output_type": "execute_result"
    }
   ],
   "source": [
    "df1.isnull().sum()"
   ]
  },
  {
   "cell_type": "code",
   "execution_count": 8,
   "id": "d8a8fccc",
   "metadata": {},
   "outputs": [
    {
     "name": "stdout",
     "output_type": "stream",
     "text": [
      "<class 'pandas.core.frame.DataFrame'>\n",
      "Int64Index: 5421 entries, 0 to 7652\n",
      "Data columns (total 15 columns):\n",
      " #   Column    Non-Null Count  Dtype  \n",
      "---  ------    --------------  -----  \n",
      " 0   name      5421 non-null   object \n",
      " 1   rating    5421 non-null   object \n",
      " 2   genre     5421 non-null   object \n",
      " 3   year      5421 non-null   int64  \n",
      " 4   released  5421 non-null   object \n",
      " 5   score     5421 non-null   float64\n",
      " 6   votes     5421 non-null   float64\n",
      " 7   director  5421 non-null   object \n",
      " 8   writer    5421 non-null   object \n",
      " 9   star      5421 non-null   object \n",
      " 10  country   5421 non-null   object \n",
      " 11  budget    5421 non-null   float64\n",
      " 12  gross     5421 non-null   float64\n",
      " 13  company   5421 non-null   object \n",
      " 14  runtime   5421 non-null   float64\n",
      "dtypes: float64(5), int64(1), object(9)\n",
      "memory usage: 677.6+ KB\n"
     ]
    }
   ],
   "source": [
    "df1.info()"
   ]
  },
  {
   "cell_type": "code",
   "execution_count": 9,
   "id": "10f1d306",
   "metadata": {},
   "outputs": [
    {
     "data": {
      "text/html": [
       "<div>\n",
       "<style scoped>\n",
       "    .dataframe tbody tr th:only-of-type {\n",
       "        vertical-align: middle;\n",
       "    }\n",
       "\n",
       "    .dataframe tbody tr th {\n",
       "        vertical-align: top;\n",
       "    }\n",
       "\n",
       "    .dataframe thead th {\n",
       "        text-align: right;\n",
       "    }\n",
       "</style>\n",
       "<table border=\"1\" class=\"dataframe\">\n",
       "  <thead>\n",
       "    <tr style=\"text-align: right;\">\n",
       "      <th></th>\n",
       "      <th>name</th>\n",
       "      <th>rating</th>\n",
       "      <th>genre</th>\n",
       "      <th>year</th>\n",
       "      <th>released</th>\n",
       "      <th>score</th>\n",
       "      <th>votes</th>\n",
       "      <th>director</th>\n",
       "      <th>writer</th>\n",
       "      <th>star</th>\n",
       "      <th>country</th>\n",
       "      <th>budget</th>\n",
       "      <th>gross</th>\n",
       "      <th>company</th>\n",
       "      <th>runtime</th>\n",
       "    </tr>\n",
       "  </thead>\n",
       "  <tbody>\n",
       "    <tr>\n",
       "      <th>0</th>\n",
       "      <td>The Shining</td>\n",
       "      <td>R</td>\n",
       "      <td>Drama</td>\n",
       "      <td>1980</td>\n",
       "      <td>June 13, 1980 (United States)</td>\n",
       "      <td>8.4</td>\n",
       "      <td>927000.0</td>\n",
       "      <td>Stanley Kubrick</td>\n",
       "      <td>Stephen King</td>\n",
       "      <td>Jack Nicholson</td>\n",
       "      <td>United Kingdom</td>\n",
       "      <td>19000000.0</td>\n",
       "      <td>46998772.0</td>\n",
       "      <td>Warner Bros.</td>\n",
       "      <td>146.0</td>\n",
       "    </tr>\n",
       "    <tr>\n",
       "      <th>1</th>\n",
       "      <td>The Blue Lagoon</td>\n",
       "      <td>R</td>\n",
       "      <td>Adventure</td>\n",
       "      <td>1980</td>\n",
       "      <td>July 2, 1980 (United States)</td>\n",
       "      <td>5.8</td>\n",
       "      <td>65000.0</td>\n",
       "      <td>Randal Kleiser</td>\n",
       "      <td>Henry De Vere Stacpoole</td>\n",
       "      <td>Brooke Shields</td>\n",
       "      <td>United States</td>\n",
       "      <td>4500000.0</td>\n",
       "      <td>58853106.0</td>\n",
       "      <td>Columbia Pictures</td>\n",
       "      <td>104.0</td>\n",
       "    </tr>\n",
       "    <tr>\n",
       "      <th>2</th>\n",
       "      <td>Star Wars: Episode V - The Empire Strikes Back</td>\n",
       "      <td>PG</td>\n",
       "      <td>Action</td>\n",
       "      <td>1980</td>\n",
       "      <td>June 20, 1980 (United States)</td>\n",
       "      <td>8.7</td>\n",
       "      <td>1200000.0</td>\n",
       "      <td>Irvin Kershner</td>\n",
       "      <td>Leigh Brackett</td>\n",
       "      <td>Mark Hamill</td>\n",
       "      <td>United States</td>\n",
       "      <td>18000000.0</td>\n",
       "      <td>538375067.0</td>\n",
       "      <td>Lucasfilm</td>\n",
       "      <td>124.0</td>\n",
       "    </tr>\n",
       "    <tr>\n",
       "      <th>3</th>\n",
       "      <td>Airplane!</td>\n",
       "      <td>PG</td>\n",
       "      <td>Comedy</td>\n",
       "      <td>1980</td>\n",
       "      <td>July 2, 1980 (United States)</td>\n",
       "      <td>7.7</td>\n",
       "      <td>221000.0</td>\n",
       "      <td>Jim Abrahams</td>\n",
       "      <td>Jim Abrahams</td>\n",
       "      <td>Robert Hays</td>\n",
       "      <td>United States</td>\n",
       "      <td>3500000.0</td>\n",
       "      <td>83453539.0</td>\n",
       "      <td>Paramount Pictures</td>\n",
       "      <td>88.0</td>\n",
       "    </tr>\n",
       "    <tr>\n",
       "      <th>4</th>\n",
       "      <td>Caddyshack</td>\n",
       "      <td>R</td>\n",
       "      <td>Comedy</td>\n",
       "      <td>1980</td>\n",
       "      <td>July 25, 1980 (United States)</td>\n",
       "      <td>7.3</td>\n",
       "      <td>108000.0</td>\n",
       "      <td>Harold Ramis</td>\n",
       "      <td>Brian Doyle-Murray</td>\n",
       "      <td>Chevy Chase</td>\n",
       "      <td>United States</td>\n",
       "      <td>6000000.0</td>\n",
       "      <td>39846344.0</td>\n",
       "      <td>Orion Pictures</td>\n",
       "      <td>98.0</td>\n",
       "    </tr>\n",
       "  </tbody>\n",
       "</table>\n",
       "</div>"
      ],
      "text/plain": [
       "                                             name rating      genre  year  \\\n",
       "0                                     The Shining      R      Drama  1980   \n",
       "1                                 The Blue Lagoon      R  Adventure  1980   \n",
       "2  Star Wars: Episode V - The Empire Strikes Back     PG     Action  1980   \n",
       "3                                       Airplane!     PG     Comedy  1980   \n",
       "4                                      Caddyshack      R     Comedy  1980   \n",
       "\n",
       "                        released  score      votes         director  \\\n",
       "0  June 13, 1980 (United States)    8.4   927000.0  Stanley Kubrick   \n",
       "1   July 2, 1980 (United States)    5.8    65000.0   Randal Kleiser   \n",
       "2  June 20, 1980 (United States)    8.7  1200000.0   Irvin Kershner   \n",
       "3   July 2, 1980 (United States)    7.7   221000.0     Jim Abrahams   \n",
       "4  July 25, 1980 (United States)    7.3   108000.0     Harold Ramis   \n",
       "\n",
       "                    writer            star         country      budget  \\\n",
       "0             Stephen King  Jack Nicholson  United Kingdom  19000000.0   \n",
       "1  Henry De Vere Stacpoole  Brooke Shields   United States   4500000.0   \n",
       "2           Leigh Brackett     Mark Hamill   United States  18000000.0   \n",
       "3             Jim Abrahams     Robert Hays   United States   3500000.0   \n",
       "4       Brian Doyle-Murray     Chevy Chase   United States   6000000.0   \n",
       "\n",
       "         gross             company  runtime  \n",
       "0   46998772.0        Warner Bros.    146.0  \n",
       "1   58853106.0   Columbia Pictures    104.0  \n",
       "2  538375067.0           Lucasfilm    124.0  \n",
       "3   83453539.0  Paramount Pictures     88.0  \n",
       "4   39846344.0      Orion Pictures     98.0  "
      ]
     },
     "execution_count": 9,
     "metadata": {},
     "output_type": "execute_result"
    }
   ],
   "source": [
    "df1.head()"
   ]
  },
  {
   "cell_type": "code",
   "execution_count": 10,
   "id": "b70f428e",
   "metadata": {},
   "outputs": [
    {
     "data": {
      "text/plain": [
       "name         object\n",
       "rating       object\n",
       "genre        object\n",
       "year          int64\n",
       "released     object\n",
       "score       float64\n",
       "votes       float64\n",
       "director     object\n",
       "writer       object\n",
       "star         object\n",
       "country      object\n",
       "budget      float64\n",
       "gross       float64\n",
       "company      object\n",
       "runtime     float64\n",
       "dtype: object"
      ]
     },
     "execution_count": 10,
     "metadata": {},
     "output_type": "execute_result"
    }
   ],
   "source": [
    "df1.dtypes"
   ]
  },
  {
   "cell_type": "code",
   "execution_count": 11,
   "id": "62fc3610",
   "metadata": {},
   "outputs": [
    {
     "name": "stderr",
     "output_type": "stream",
     "text": [
      "C:\\Users\\fawaz\\AppData\\Local\\Temp\\ipykernel_30300\\399554578.py:1: SettingWithCopyWarning: \n",
      "A value is trying to be set on a copy of a slice from a DataFrame.\n",
      "Try using .loc[row_indexer,col_indexer] = value instead\n",
      "\n",
      "See the caveats in the documentation: https://pandas.pydata.org/pandas-docs/stable/user_guide/indexing.html#returning-a-view-versus-a-copy\n",
      "  df1['budget'] = df1['budget'].astype('int64')\n",
      "C:\\Users\\fawaz\\AppData\\Local\\Temp\\ipykernel_30300\\399554578.py:2: SettingWithCopyWarning: \n",
      "A value is trying to be set on a copy of a slice from a DataFrame.\n",
      "Try using .loc[row_indexer,col_indexer] = value instead\n",
      "\n",
      "See the caveats in the documentation: https://pandas.pydata.org/pandas-docs/stable/user_guide/indexing.html#returning-a-view-versus-a-copy\n",
      "  df1['gross'] = df1['gross'].astype('int64')\n"
     ]
    }
   ],
   "source": [
    "df1['budget'] = df1['budget'].astype('int64')\n",
    "df1['gross'] = df1['gross'].astype('int64')"
   ]
  },
  {
   "cell_type": "code",
   "execution_count": 12,
   "id": "6232e8ce",
   "metadata": {},
   "outputs": [
    {
     "data": {
      "text/plain": [
       "name         object\n",
       "rating       object\n",
       "genre        object\n",
       "year          int64\n",
       "released     object\n",
       "score       float64\n",
       "votes       float64\n",
       "director     object\n",
       "writer       object\n",
       "star         object\n",
       "country      object\n",
       "budget        int64\n",
       "gross         int64\n",
       "company      object\n",
       "runtime     float64\n",
       "dtype: object"
      ]
     },
     "execution_count": 12,
     "metadata": {},
     "output_type": "execute_result"
    }
   ],
   "source": [
    "df1.dtypes"
   ]
  },
  {
   "cell_type": "code",
   "execution_count": 13,
   "id": "51bd7218",
   "metadata": {},
   "outputs": [
    {
     "name": "stderr",
     "output_type": "stream",
     "text": [
      "C:\\Users\\fawaz\\AppData\\Local\\Temp\\ipykernel_30300\\312605251.py:1: SettingWithCopyWarning: \n",
      "A value is trying to be set on a copy of a slice from a DataFrame.\n",
      "Try using .loc[row_indexer,col_indexer] = value instead\n",
      "\n",
      "See the caveats in the documentation: https://pandas.pydata.org/pandas-docs/stable/user_guide/indexing.html#returning-a-view-versus-a-copy\n",
      "  df1['yearcorrect'] = df1['released'].str.extract(pat = '([0-9]{4})').astype(int)\n"
     ]
    }
   ],
   "source": [
    "df1['yearcorrect'] = df1['released'].str.extract(pat = '([0-9]{4})').astype(int)"
   ]
  },
  {
   "cell_type": "code",
   "execution_count": 14,
   "id": "c1f8f246",
   "metadata": {},
   "outputs": [
    {
     "data": {
      "text/html": [
       "<div>\n",
       "<style scoped>\n",
       "    .dataframe tbody tr th:only-of-type {\n",
       "        vertical-align: middle;\n",
       "    }\n",
       "\n",
       "    .dataframe tbody tr th {\n",
       "        vertical-align: top;\n",
       "    }\n",
       "\n",
       "    .dataframe thead th {\n",
       "        text-align: right;\n",
       "    }\n",
       "</style>\n",
       "<table border=\"1\" class=\"dataframe\">\n",
       "  <thead>\n",
       "    <tr style=\"text-align: right;\">\n",
       "      <th></th>\n",
       "      <th>name</th>\n",
       "      <th>rating</th>\n",
       "      <th>genre</th>\n",
       "      <th>year</th>\n",
       "      <th>released</th>\n",
       "      <th>score</th>\n",
       "      <th>votes</th>\n",
       "      <th>director</th>\n",
       "      <th>writer</th>\n",
       "      <th>star</th>\n",
       "      <th>country</th>\n",
       "      <th>budget</th>\n",
       "      <th>gross</th>\n",
       "      <th>company</th>\n",
       "      <th>runtime</th>\n",
       "      <th>yearcorrect</th>\n",
       "    </tr>\n",
       "  </thead>\n",
       "  <tbody>\n",
       "    <tr>\n",
       "      <th>0</th>\n",
       "      <td>The Shining</td>\n",
       "      <td>R</td>\n",
       "      <td>Drama</td>\n",
       "      <td>1980</td>\n",
       "      <td>June 13, 1980 (United States)</td>\n",
       "      <td>8.4</td>\n",
       "      <td>927000.0</td>\n",
       "      <td>Stanley Kubrick</td>\n",
       "      <td>Stephen King</td>\n",
       "      <td>Jack Nicholson</td>\n",
       "      <td>United Kingdom</td>\n",
       "      <td>19000000</td>\n",
       "      <td>46998772</td>\n",
       "      <td>Warner Bros.</td>\n",
       "      <td>146.0</td>\n",
       "      <td>1980</td>\n",
       "    </tr>\n",
       "    <tr>\n",
       "      <th>1</th>\n",
       "      <td>The Blue Lagoon</td>\n",
       "      <td>R</td>\n",
       "      <td>Adventure</td>\n",
       "      <td>1980</td>\n",
       "      <td>July 2, 1980 (United States)</td>\n",
       "      <td>5.8</td>\n",
       "      <td>65000.0</td>\n",
       "      <td>Randal Kleiser</td>\n",
       "      <td>Henry De Vere Stacpoole</td>\n",
       "      <td>Brooke Shields</td>\n",
       "      <td>United States</td>\n",
       "      <td>4500000</td>\n",
       "      <td>58853106</td>\n",
       "      <td>Columbia Pictures</td>\n",
       "      <td>104.0</td>\n",
       "      <td>1980</td>\n",
       "    </tr>\n",
       "    <tr>\n",
       "      <th>2</th>\n",
       "      <td>Star Wars: Episode V - The Empire Strikes Back</td>\n",
       "      <td>PG</td>\n",
       "      <td>Action</td>\n",
       "      <td>1980</td>\n",
       "      <td>June 20, 1980 (United States)</td>\n",
       "      <td>8.7</td>\n",
       "      <td>1200000.0</td>\n",
       "      <td>Irvin Kershner</td>\n",
       "      <td>Leigh Brackett</td>\n",
       "      <td>Mark Hamill</td>\n",
       "      <td>United States</td>\n",
       "      <td>18000000</td>\n",
       "      <td>538375067</td>\n",
       "      <td>Lucasfilm</td>\n",
       "      <td>124.0</td>\n",
       "      <td>1980</td>\n",
       "    </tr>\n",
       "    <tr>\n",
       "      <th>3</th>\n",
       "      <td>Airplane!</td>\n",
       "      <td>PG</td>\n",
       "      <td>Comedy</td>\n",
       "      <td>1980</td>\n",
       "      <td>July 2, 1980 (United States)</td>\n",
       "      <td>7.7</td>\n",
       "      <td>221000.0</td>\n",
       "      <td>Jim Abrahams</td>\n",
       "      <td>Jim Abrahams</td>\n",
       "      <td>Robert Hays</td>\n",
       "      <td>United States</td>\n",
       "      <td>3500000</td>\n",
       "      <td>83453539</td>\n",
       "      <td>Paramount Pictures</td>\n",
       "      <td>88.0</td>\n",
       "      <td>1980</td>\n",
       "    </tr>\n",
       "    <tr>\n",
       "      <th>4</th>\n",
       "      <td>Caddyshack</td>\n",
       "      <td>R</td>\n",
       "      <td>Comedy</td>\n",
       "      <td>1980</td>\n",
       "      <td>July 25, 1980 (United States)</td>\n",
       "      <td>7.3</td>\n",
       "      <td>108000.0</td>\n",
       "      <td>Harold Ramis</td>\n",
       "      <td>Brian Doyle-Murray</td>\n",
       "      <td>Chevy Chase</td>\n",
       "      <td>United States</td>\n",
       "      <td>6000000</td>\n",
       "      <td>39846344</td>\n",
       "      <td>Orion Pictures</td>\n",
       "      <td>98.0</td>\n",
       "      <td>1980</td>\n",
       "    </tr>\n",
       "  </tbody>\n",
       "</table>\n",
       "</div>"
      ],
      "text/plain": [
       "                                             name rating      genre  year  \\\n",
       "0                                     The Shining      R      Drama  1980   \n",
       "1                                 The Blue Lagoon      R  Adventure  1980   \n",
       "2  Star Wars: Episode V - The Empire Strikes Back     PG     Action  1980   \n",
       "3                                       Airplane!     PG     Comedy  1980   \n",
       "4                                      Caddyshack      R     Comedy  1980   \n",
       "\n",
       "                        released  score      votes         director  \\\n",
       "0  June 13, 1980 (United States)    8.4   927000.0  Stanley Kubrick   \n",
       "1   July 2, 1980 (United States)    5.8    65000.0   Randal Kleiser   \n",
       "2  June 20, 1980 (United States)    8.7  1200000.0   Irvin Kershner   \n",
       "3   July 2, 1980 (United States)    7.7   221000.0     Jim Abrahams   \n",
       "4  July 25, 1980 (United States)    7.3   108000.0     Harold Ramis   \n",
       "\n",
       "                    writer            star         country    budget  \\\n",
       "0             Stephen King  Jack Nicholson  United Kingdom  19000000   \n",
       "1  Henry De Vere Stacpoole  Brooke Shields   United States   4500000   \n",
       "2           Leigh Brackett     Mark Hamill   United States  18000000   \n",
       "3             Jim Abrahams     Robert Hays   United States   3500000   \n",
       "4       Brian Doyle-Murray     Chevy Chase   United States   6000000   \n",
       "\n",
       "       gross             company  runtime  yearcorrect  \n",
       "0   46998772        Warner Bros.    146.0         1980  \n",
       "1   58853106   Columbia Pictures    104.0         1980  \n",
       "2  538375067           Lucasfilm    124.0         1980  \n",
       "3   83453539  Paramount Pictures     88.0         1980  \n",
       "4   39846344      Orion Pictures     98.0         1980  "
      ]
     },
     "execution_count": 14,
     "metadata": {},
     "output_type": "execute_result"
    }
   ],
   "source": [
    "df1.head()"
   ]
  },
  {
   "cell_type": "code",
   "execution_count": 15,
   "id": "87b0e8d8",
   "metadata": {},
   "outputs": [],
   "source": [
    "df1 = df1.sort_values(by = ['gross'], inplace=False, ascending=False)"
   ]
  },
  {
   "cell_type": "code",
   "execution_count": 16,
   "id": "e74e34f6",
   "metadata": {},
   "outputs": [],
   "source": [
    "#pd.set_option('display.max_rows', None)\n",
    "#code to show full rows in output"
   ]
  },
  {
   "cell_type": "code",
   "execution_count": 17,
   "id": "b4836a04",
   "metadata": {},
   "outputs": [
    {
     "data": {
      "text/plain": [
       "7129                                thefyzz\n",
       "5664                            micro_scope\n",
       "4007                               i5 Films\n",
       "6793                             i am OTHER\n",
       "6420                                   erbp\n",
       "                       ...                 \n",
       "385                        1818 Productions\n",
       "2929                          1492 Pictures\n",
       "3024                        .406 Production\n",
       "7525    \"Weathering With You\" Film Partners\n",
       "4345        \"DIA\" Productions GmbH & Co. KG\n",
       "Name: company, Length: 1475, dtype: object"
      ]
     },
     "execution_count": 17,
     "metadata": {},
     "output_type": "execute_result"
    }
   ],
   "source": [
    "#Check for duplicates\n",
    "df1['company'].drop_duplicates().sort_values(ascending=False)"
   ]
  },
  {
   "cell_type": "markdown",
   "id": "2b27838b",
   "metadata": {},
   "source": [
    "# 4. Finding Correlation"
   ]
  },
  {
   "cell_type": "code",
   "execution_count": 18,
   "id": "81740a8e",
   "metadata": {},
   "outputs": [
    {
     "data": {
      "text/plain": [
       "Text(0.5, 1.0, 'Budget vs Gross Earnings')"
      ]
     },
     "execution_count": 18,
     "metadata": {},
     "output_type": "execute_result"
    },
    {
     "data": {
      "image/png": "[encoded data removed]",
      "text/plain": [
       "<Figure size 432x288 with 1 Axes>"
      ]
     },
     "metadata": {
      "needs_background": "light"
     },
     "output_type": "display_data"
    }
   ],
   "source": [
    "#Scatterplot of budget v/s gross revenue\n",
    "sns.scatterplot(data=df1, x='budget', y='gross', color='r')\n",
    "plt.title('Budget vs Gross Earnings')"
   ]
  },
  {
   "cell_type": "code",
   "execution_count": 19,
   "id": "7571679b",
   "metadata": {},
   "outputs": [
    {
     "data": {
      "text/html": [
       "<div>\n",
       "<style scoped>\n",
       "    .dataframe tbody tr th:only-of-type {\n",
       "        vertical-align: middle;\n",
       "    }\n",
       "\n",
       "    .dataframe tbody tr th {\n",
       "        vertical-align: top;\n",
       "    }\n",
       "\n",
       "    .dataframe thead th {\n",
       "        text-align: right;\n",
       "    }\n",
       "</style>\n",
       "<table border=\"1\" class=\"dataframe\">\n",
       "  <thead>\n",
       "    <tr style=\"text-align: right;\">\n",
       "      <th></th>\n",
       "      <th>name</th>\n",
       "      <th>rating</th>\n",
       "      <th>genre</th>\n",
       "      <th>year</th>\n",
       "      <th>released</th>\n",
       "      <th>score</th>\n",
       "      <th>votes</th>\n",
       "      <th>director</th>\n",
       "      <th>writer</th>\n",
       "      <th>star</th>\n",
       "      <th>country</th>\n",
       "      <th>budget</th>\n",
       "      <th>gross</th>\n",
       "      <th>company</th>\n",
       "      <th>runtime</th>\n",
       "      <th>yearcorrect</th>\n",
       "    </tr>\n",
       "  </thead>\n",
       "  <tbody>\n",
       "    <tr>\n",
       "      <th>5445</th>\n",
       "      <td>Avatar</td>\n",
       "      <td>PG-13</td>\n",
       "      <td>Action</td>\n",
       "      <td>2009</td>\n",
       "      <td>December 18, 2009 (United States)</td>\n",
       "      <td>7.8</td>\n",
       "      <td>1100000.0</td>\n",
       "      <td>James Cameron</td>\n",
       "      <td>James Cameron</td>\n",
       "      <td>Sam Worthington</td>\n",
       "      <td>United States</td>\n",
       "      <td>237000000</td>\n",
       "      <td>2847246203</td>\n",
       "      <td>Twentieth Century Fox</td>\n",
       "      <td>162.0</td>\n",
       "      <td>2009</td>\n",
       "    </tr>\n",
       "    <tr>\n",
       "      <th>7445</th>\n",
       "      <td>Avengers: Endgame</td>\n",
       "      <td>PG-13</td>\n",
       "      <td>Action</td>\n",
       "      <td>2019</td>\n",
       "      <td>April 26, 2019 (United States)</td>\n",
       "      <td>8.4</td>\n",
       "      <td>903000.0</td>\n",
       "      <td>Anthony Russo</td>\n",
       "      <td>Christopher Markus</td>\n",
       "      <td>Robert Downey Jr.</td>\n",
       "      <td>United States</td>\n",
       "      <td>356000000</td>\n",
       "      <td>2797501328</td>\n",
       "      <td>Marvel Studios</td>\n",
       "      <td>181.0</td>\n",
       "      <td>2019</td>\n",
       "    </tr>\n",
       "    <tr>\n",
       "      <th>3045</th>\n",
       "      <td>Titanic</td>\n",
       "      <td>PG-13</td>\n",
       "      <td>Drama</td>\n",
       "      <td>1997</td>\n",
       "      <td>December 19, 1997 (United States)</td>\n",
       "      <td>7.8</td>\n",
       "      <td>1100000.0</td>\n",
       "      <td>James Cameron</td>\n",
       "      <td>James Cameron</td>\n",
       "      <td>Leonardo DiCaprio</td>\n",
       "      <td>United States</td>\n",
       "      <td>200000000</td>\n",
       "      <td>2201647264</td>\n",
       "      <td>Twentieth Century Fox</td>\n",
       "      <td>194.0</td>\n",
       "      <td>1997</td>\n",
       "    </tr>\n",
       "    <tr>\n",
       "      <th>6663</th>\n",
       "      <td>Star Wars: Episode VII - The Force Awakens</td>\n",
       "      <td>PG-13</td>\n",
       "      <td>Action</td>\n",
       "      <td>2015</td>\n",
       "      <td>December 18, 2015 (United States)</td>\n",
       "      <td>7.8</td>\n",
       "      <td>876000.0</td>\n",
       "      <td>J.J. Abrams</td>\n",
       "      <td>Lawrence Kasdan</td>\n",
       "      <td>Daisy Ridley</td>\n",
       "      <td>United States</td>\n",
       "      <td>245000000</td>\n",
       "      <td>2069521700</td>\n",
       "      <td>Lucasfilm</td>\n",
       "      <td>138.0</td>\n",
       "      <td>2015</td>\n",
       "    </tr>\n",
       "    <tr>\n",
       "      <th>7244</th>\n",
       "      <td>Avengers: Infinity War</td>\n",
       "      <td>PG-13</td>\n",
       "      <td>Action</td>\n",
       "      <td>2018</td>\n",
       "      <td>April 27, 2018 (United States)</td>\n",
       "      <td>8.4</td>\n",
       "      <td>897000.0</td>\n",
       "      <td>Anthony Russo</td>\n",
       "      <td>Christopher Markus</td>\n",
       "      <td>Robert Downey Jr.</td>\n",
       "      <td>United States</td>\n",
       "      <td>321000000</td>\n",
       "      <td>2048359754</td>\n",
       "      <td>Marvel Studios</td>\n",
       "      <td>149.0</td>\n",
       "      <td>2018</td>\n",
       "    </tr>\n",
       "  </tbody>\n",
       "</table>\n",
       "</div>"
      ],
      "text/plain": [
       "                                            name rating   genre  year  \\\n",
       "5445                                      Avatar  PG-13  Action  2009   \n",
       "7445                           Avengers: Endgame  PG-13  Action  2019   \n",
       "3045                                     Titanic  PG-13   Drama  1997   \n",
       "6663  Star Wars: Episode VII - The Force Awakens  PG-13  Action  2015   \n",
       "7244                      Avengers: Infinity War  PG-13  Action  2018   \n",
       "\n",
       "                               released  score      votes       director  \\\n",
       "5445  December 18, 2009 (United States)    7.8  1100000.0  James Cameron   \n",
       "7445     April 26, 2019 (United States)    8.4   903000.0  Anthony Russo   \n",
       "3045  December 19, 1997 (United States)    7.8  1100000.0  James Cameron   \n",
       "6663  December 18, 2015 (United States)    7.8   876000.0    J.J. Abrams   \n",
       "7244     April 27, 2018 (United States)    8.4   897000.0  Anthony Russo   \n",
       "\n",
       "                  writer               star        country     budget  \\\n",
       "5445       James Cameron    Sam Worthington  United States  237000000   \n",
       "7445  Christopher Markus  Robert Downey Jr.  United States  356000000   \n",
       "3045       James Cameron  Leonardo DiCaprio  United States  200000000   \n",
       "6663     Lawrence Kasdan       Daisy Ridley  United States  245000000   \n",
       "7244  Christopher Markus  Robert Downey Jr.  United States  321000000   \n",
       "\n",
       "           gross                company  runtime  yearcorrect  \n",
       "5445  2847246203  Twentieth Century Fox    162.0         2009  \n",
       "7445  2797501328         Marvel Studios    181.0         2019  \n",
       "3045  2201647264  Twentieth Century Fox    194.0         1997  \n",
       "6663  2069521700              Lucasfilm    138.0         2015  \n",
       "7244  2048359754         Marvel Studios    149.0         2018  "
      ]
     },
     "execution_count": 19,
     "metadata": {},
     "output_type": "execute_result"
    }
   ],
   "source": [
    "df1.head()"
   ]
  },
  {
   "cell_type": "code",
   "execution_count": 20,
   "id": "af34e0e5",
   "metadata": {},
   "outputs": [
    {
     "data": {
      "text/plain": [
       "<AxesSubplot:xlabel='budget', ylabel='gross'>"
      ]
     },
     "execution_count": 20,
     "metadata": {},
     "output_type": "execute_result"
    },
    {
     "data": {
      "image/png": "[encoded data removed]",
      "text/plain": [
       "<Figure size 432x288 with 1 Axes>"
      ]
     },
     "metadata": {
      "needs_background": "light"
     },
     "output_type": "display_data"
    }
   ],
   "source": [
    "#Regression plot of budget vs gross earnings\n",
    "sns.regplot(data=df1, x='budget', y='gross', scatter_kws={\"color\":\"red\"}, line_kws={\"color\":\"blue\"})"
   ]
  },
  {
   "cell_type": "markdown",
   "id": "cef77c6a",
   "metadata": {},
   "source": [
    "There seems to be a postitve correlation between the two."
   ]
  },
  {
   "cell_type": "code",
   "execution_count": 21,
   "id": "ebc41e64",
   "metadata": {},
   "outputs": [
    {
     "data": {
      "text/plain": [
       "Text(0.5, 1.0, 'Correlation Matrix for Numeric Features')"
      ]
     },
     "execution_count": 21,
     "metadata": {},
     "output_type": "execute_result"
    },
    {
     "data": {
      "image/png": "[encoded data removed]",
      "text/plain": [
       "<Figure size 432x288 with 2 Axes>"
      ]
     },
     "metadata": {
      "needs_background": "light"
     },
     "output_type": "display_data"
    }
   ],
   "source": [
    "#Correlation matrix\n",
    "sns.heatmap(df1.corr(method='pearson'), annot=True, cmap='viridis')\n",
    "plt.title('Correlation Matrix for Numeric Features')"
   ]
  },
  {
   "cell_type": "markdown",
   "id": "6109fa70",
   "metadata": {},
   "source": [
    "As inferred from above scatterplot, we can confirm from the heatmap that budget and gross are highly correlated columns in our data (0.74)"
   ]
  },
  {
   "cell_type": "code",
   "execution_count": 22,
   "id": "8197a4e5",
   "metadata": {},
   "outputs": [
    {
     "data": {
      "text/html": [
       "<div>\n",
       "<style scoped>\n",
       "    .dataframe tbody tr th:only-of-type {\n",
       "        vertical-align: middle;\n",
       "    }\n",
       "\n",
       "    .dataframe tbody tr th {\n",
       "        vertical-align: top;\n",
       "    }\n",
       "\n",
       "    .dataframe thead th {\n",
       "        text-align: right;\n",
       "    }\n",
       "</style>\n",
       "<table border=\"1\" class=\"dataframe\">\n",
       "  <thead>\n",
       "    <tr style=\"text-align: right;\">\n",
       "      <th></th>\n",
       "      <th>name</th>\n",
       "      <th>rating</th>\n",
       "      <th>genre</th>\n",
       "      <th>year</th>\n",
       "      <th>released</th>\n",
       "      <th>score</th>\n",
       "      <th>votes</th>\n",
       "      <th>director</th>\n",
       "      <th>writer</th>\n",
       "      <th>star</th>\n",
       "      <th>country</th>\n",
       "      <th>budget</th>\n",
       "      <th>gross</th>\n",
       "      <th>company</th>\n",
       "      <th>runtime</th>\n",
       "      <th>yearcorrect</th>\n",
       "    </tr>\n",
       "  </thead>\n",
       "  <tbody>\n",
       "    <tr>\n",
       "      <th>5445</th>\n",
       "      <td>386</td>\n",
       "      <td>5</td>\n",
       "      <td>0</td>\n",
       "      <td>2009</td>\n",
       "      <td>527</td>\n",
       "      <td>7.8</td>\n",
       "      <td>1100000.0</td>\n",
       "      <td>785</td>\n",
       "      <td>1263</td>\n",
       "      <td>1534</td>\n",
       "      <td>47</td>\n",
       "      <td>237000000</td>\n",
       "      <td>2847246203</td>\n",
       "      <td>1382</td>\n",
       "      <td>162.0</td>\n",
       "      <td>2009</td>\n",
       "    </tr>\n",
       "    <tr>\n",
       "      <th>7445</th>\n",
       "      <td>388</td>\n",
       "      <td>5</td>\n",
       "      <td>0</td>\n",
       "      <td>2019</td>\n",
       "      <td>137</td>\n",
       "      <td>8.4</td>\n",
       "      <td>903000.0</td>\n",
       "      <td>105</td>\n",
       "      <td>513</td>\n",
       "      <td>1470</td>\n",
       "      <td>47</td>\n",
       "      <td>356000000</td>\n",
       "      <td>2797501328</td>\n",
       "      <td>983</td>\n",
       "      <td>181.0</td>\n",
       "      <td>2019</td>\n",
       "    </tr>\n",
       "    <tr>\n",
       "      <th>3045</th>\n",
       "      <td>4909</td>\n",
       "      <td>5</td>\n",
       "      <td>6</td>\n",
       "      <td>1997</td>\n",
       "      <td>534</td>\n",
       "      <td>7.8</td>\n",
       "      <td>1100000.0</td>\n",
       "      <td>785</td>\n",
       "      <td>1263</td>\n",
       "      <td>1073</td>\n",
       "      <td>47</td>\n",
       "      <td>200000000</td>\n",
       "      <td>2201647264</td>\n",
       "      <td>1382</td>\n",
       "      <td>194.0</td>\n",
       "      <td>1997</td>\n",
       "    </tr>\n",
       "    <tr>\n",
       "      <th>6663</th>\n",
       "      <td>3643</td>\n",
       "      <td>5</td>\n",
       "      <td>0</td>\n",
       "      <td>2015</td>\n",
       "      <td>529</td>\n",
       "      <td>7.8</td>\n",
       "      <td>876000.0</td>\n",
       "      <td>768</td>\n",
       "      <td>1806</td>\n",
       "      <td>356</td>\n",
       "      <td>47</td>\n",
       "      <td>245000000</td>\n",
       "      <td>2069521700</td>\n",
       "      <td>945</td>\n",
       "      <td>138.0</td>\n",
       "      <td>2015</td>\n",
       "    </tr>\n",
       "    <tr>\n",
       "      <th>7244</th>\n",
       "      <td>389</td>\n",
       "      <td>5</td>\n",
       "      <td>0</td>\n",
       "      <td>2018</td>\n",
       "      <td>145</td>\n",
       "      <td>8.4</td>\n",
       "      <td>897000.0</td>\n",
       "      <td>105</td>\n",
       "      <td>513</td>\n",
       "      <td>1470</td>\n",
       "      <td>47</td>\n",
       "      <td>321000000</td>\n",
       "      <td>2048359754</td>\n",
       "      <td>983</td>\n",
       "      <td>149.0</td>\n",
       "      <td>2018</td>\n",
       "    </tr>\n",
       "  </tbody>\n",
       "</table>\n",
       "</div>"
      ],
      "text/plain": [
       "      name  rating  genre  year  released  score      votes  director  writer  \\\n",
       "5445   386       5      0  2009       527    7.8  1100000.0       785    1263   \n",
       "7445   388       5      0  2019       137    8.4   903000.0       105     513   \n",
       "3045  4909       5      6  1997       534    7.8  1100000.0       785    1263   \n",
       "6663  3643       5      0  2015       529    7.8   876000.0       768    1806   \n",
       "7244   389       5      0  2018       145    8.4   897000.0       105     513   \n",
       "\n",
       "      star  country     budget       gross  company  runtime  yearcorrect  \n",
       "5445  1534       47  237000000  2847246203     1382    162.0         2009  \n",
       "7445  1470       47  356000000  2797501328      983    181.0         2019  \n",
       "3045  1073       47  200000000  2201647264     1382    194.0         1997  \n",
       "6663   356       47  245000000  2069521700      945    138.0         2015  \n",
       "7244  1470       47  321000000  2048359754      983    149.0         2018  "
      ]
     },
     "execution_count": 22,
     "metadata": {},
     "output_type": "execute_result"
    }
   ],
   "source": [
    "#Converting character data into numerical data for correlation\n",
    "df1_numerized = df1\n",
    "for col_name in df1_numerized.columns:\n",
    "    if(df1_numerized[col_name].dtype == 'object'):\n",
    "        df1_numerized[col_name] = df1_numerized[col_name].astype('category')\n",
    "        df1_numerized[col_name] = df1_numerized[col_name].cat.codes\n",
    "\n",
    "df1_numerized.head()"
   ]
  },
  {
   "cell_type": "code",
   "execution_count": 23,
   "id": "f8f23176",
   "metadata": {},
   "outputs": [
    {
     "data": {
      "text/html": [
       "<div>\n",
       "<style scoped>\n",
       "    .dataframe tbody tr th:only-of-type {\n",
       "        vertical-align: middle;\n",
       "    }\n",
       "\n",
       "    .dataframe tbody tr th {\n",
       "        vertical-align: top;\n",
       "    }\n",
       "\n",
       "    .dataframe thead th {\n",
       "        text-align: right;\n",
       "    }\n",
       "</style>\n",
       "<table border=\"1\" class=\"dataframe\">\n",
       "  <thead>\n",
       "    <tr style=\"text-align: right;\">\n",
       "      <th></th>\n",
       "      <th>name</th>\n",
       "      <th>rating</th>\n",
       "      <th>genre</th>\n",
       "      <th>year</th>\n",
       "      <th>released</th>\n",
       "      <th>score</th>\n",
       "      <th>votes</th>\n",
       "      <th>director</th>\n",
       "      <th>writer</th>\n",
       "      <th>star</th>\n",
       "      <th>country</th>\n",
       "      <th>budget</th>\n",
       "      <th>gross</th>\n",
       "      <th>company</th>\n",
       "      <th>runtime</th>\n",
       "      <th>yearcorrect</th>\n",
       "    </tr>\n",
       "  </thead>\n",
       "  <tbody>\n",
       "    <tr>\n",
       "      <th>5445</th>\n",
       "      <td>386</td>\n",
       "      <td>5</td>\n",
       "      <td>0</td>\n",
       "      <td>2009</td>\n",
       "      <td>527</td>\n",
       "      <td>7.8</td>\n",
       "      <td>1100000.0</td>\n",
       "      <td>785</td>\n",
       "      <td>1263</td>\n",
       "      <td>1534</td>\n",
       "      <td>47</td>\n",
       "      <td>237000000</td>\n",
       "      <td>2847246203</td>\n",
       "      <td>1382</td>\n",
       "      <td>162.0</td>\n",
       "      <td>2009</td>\n",
       "    </tr>\n",
       "    <tr>\n",
       "      <th>7445</th>\n",
       "      <td>388</td>\n",
       "      <td>5</td>\n",
       "      <td>0</td>\n",
       "      <td>2019</td>\n",
       "      <td>137</td>\n",
       "      <td>8.4</td>\n",
       "      <td>903000.0</td>\n",
       "      <td>105</td>\n",
       "      <td>513</td>\n",
       "      <td>1470</td>\n",
       "      <td>47</td>\n",
       "      <td>356000000</td>\n",
       "      <td>2797501328</td>\n",
       "      <td>983</td>\n",
       "      <td>181.0</td>\n",
       "      <td>2019</td>\n",
       "    </tr>\n",
       "    <tr>\n",
       "      <th>3045</th>\n",
       "      <td>4909</td>\n",
       "      <td>5</td>\n",
       "      <td>6</td>\n",
       "      <td>1997</td>\n",
       "      <td>534</td>\n",
       "      <td>7.8</td>\n",
       "      <td>1100000.0</td>\n",
       "      <td>785</td>\n",
       "      <td>1263</td>\n",
       "      <td>1073</td>\n",
       "      <td>47</td>\n",
       "      <td>200000000</td>\n",
       "      <td>2201647264</td>\n",
       "      <td>1382</td>\n",
       "      <td>194.0</td>\n",
       "      <td>1997</td>\n",
       "    </tr>\n",
       "    <tr>\n",
       "      <th>6663</th>\n",
       "      <td>3643</td>\n",
       "      <td>5</td>\n",
       "      <td>0</td>\n",
       "      <td>2015</td>\n",
       "      <td>529</td>\n",
       "      <td>7.8</td>\n",
       "      <td>876000.0</td>\n",
       "      <td>768</td>\n",
       "      <td>1806</td>\n",
       "      <td>356</td>\n",
       "      <td>47</td>\n",
       "      <td>245000000</td>\n",
       "      <td>2069521700</td>\n",
       "      <td>945</td>\n",
       "      <td>138.0</td>\n",
       "      <td>2015</td>\n",
       "    </tr>\n",
       "    <tr>\n",
       "      <th>7244</th>\n",
       "      <td>389</td>\n",
       "      <td>5</td>\n",
       "      <td>0</td>\n",
       "      <td>2018</td>\n",
       "      <td>145</td>\n",
       "      <td>8.4</td>\n",
       "      <td>897000.0</td>\n",
       "      <td>105</td>\n",
       "      <td>513</td>\n",
       "      <td>1470</td>\n",
       "      <td>47</td>\n",
       "      <td>321000000</td>\n",
       "      <td>2048359754</td>\n",
       "      <td>983</td>\n",
       "      <td>149.0</td>\n",
       "      <td>2018</td>\n",
       "    </tr>\n",
       "    <tr>\n",
       "      <th>...</th>\n",
       "      <td>...</td>\n",
       "      <td>...</td>\n",
       "      <td>...</td>\n",
       "      <td>...</td>\n",
       "      <td>...</td>\n",
       "      <td>...</td>\n",
       "      <td>...</td>\n",
       "      <td>...</td>\n",
       "      <td>...</td>\n",
       "      <td>...</td>\n",
       "      <td>...</td>\n",
       "      <td>...</td>\n",
       "      <td>...</td>\n",
       "      <td>...</td>\n",
       "      <td>...</td>\n",
       "      <td>...</td>\n",
       "    </tr>\n",
       "    <tr>\n",
       "      <th>5640</th>\n",
       "      <td>3794</td>\n",
       "      <td>6</td>\n",
       "      <td>6</td>\n",
       "      <td>2009</td>\n",
       "      <td>890</td>\n",
       "      <td>5.8</td>\n",
       "      <td>3500.0</td>\n",
       "      <td>585</td>\n",
       "      <td>2924</td>\n",
       "      <td>1498</td>\n",
       "      <td>47</td>\n",
       "      <td>3000000</td>\n",
       "      <td>5073</td>\n",
       "      <td>1385</td>\n",
       "      <td>96.0</td>\n",
       "      <td>2015</td>\n",
       "    </tr>\n",
       "    <tr>\n",
       "      <th>2434</th>\n",
       "      <td>2969</td>\n",
       "      <td>5</td>\n",
       "      <td>0</td>\n",
       "      <td>1993</td>\n",
       "      <td>1467</td>\n",
       "      <td>4.5</td>\n",
       "      <td>1900.0</td>\n",
       "      <td>1805</td>\n",
       "      <td>3102</td>\n",
       "      <td>186</td>\n",
       "      <td>47</td>\n",
       "      <td>5000000</td>\n",
       "      <td>2970</td>\n",
       "      <td>1376</td>\n",
       "      <td>97.0</td>\n",
       "      <td>1994</td>\n",
       "    </tr>\n",
       "    <tr>\n",
       "      <th>3681</th>\n",
       "      <td>1595</td>\n",
       "      <td>3</td>\n",
       "      <td>6</td>\n",
       "      <td>2000</td>\n",
       "      <td>1721</td>\n",
       "      <td>6.8</td>\n",
       "      <td>43000.0</td>\n",
       "      <td>952</td>\n",
       "      <td>1683</td>\n",
       "      <td>527</td>\n",
       "      <td>6</td>\n",
       "      <td>5000000</td>\n",
       "      <td>2554</td>\n",
       "      <td>466</td>\n",
       "      <td>108.0</td>\n",
       "      <td>2001</td>\n",
       "    </tr>\n",
       "    <tr>\n",
       "      <th>272</th>\n",
       "      <td>2909</td>\n",
       "      <td>6</td>\n",
       "      <td>9</td>\n",
       "      <td>1982</td>\n",
       "      <td>1525</td>\n",
       "      <td>3.9</td>\n",
       "      <td>2300.0</td>\n",
       "      <td>261</td>\n",
       "      <td>55</td>\n",
       "      <td>1473</td>\n",
       "      <td>47</td>\n",
       "      <td>800000</td>\n",
       "      <td>2270</td>\n",
       "      <td>582</td>\n",
       "      <td>85.0</td>\n",
       "      <td>1982</td>\n",
       "    </tr>\n",
       "    <tr>\n",
       "      <th>3203</th>\n",
       "      <td>4966</td>\n",
       "      <td>5</td>\n",
       "      <td>4</td>\n",
       "      <td>1997</td>\n",
       "      <td>2152</td>\n",
       "      <td>5.7</td>\n",
       "      <td>5800.0</td>\n",
       "      <td>651</td>\n",
       "      <td>161</td>\n",
       "      <td>1811</td>\n",
       "      <td>47</td>\n",
       "      <td>15000000</td>\n",
       "      <td>309</td>\n",
       "      <td>504</td>\n",
       "      <td>85.0</td>\n",
       "      <td>1997</td>\n",
       "    </tr>\n",
       "  </tbody>\n",
       "</table>\n",
       "<p>5421 rows × 16 columns</p>\n",
       "</div>"
      ],
      "text/plain": [
       "      name  rating  genre  year  released  score      votes  director  writer  \\\n",
       "5445   386       5      0  2009       527    7.8  1100000.0       785    1263   \n",
       "7445   388       5      0  2019       137    8.4   903000.0       105     513   \n",
       "3045  4909       5      6  1997       534    7.8  1100000.0       785    1263   \n",
       "6663  3643       5      0  2015       529    7.8   876000.0       768    1806   \n",
       "7244   389       5      0  2018       145    8.4   897000.0       105     513   \n",
       "...    ...     ...    ...   ...       ...    ...        ...       ...     ...   \n",
       "5640  3794       6      6  2009       890    5.8     3500.0       585    2924   \n",
       "2434  2969       5      0  1993      1467    4.5     1900.0      1805    3102   \n",
       "3681  1595       3      6  2000      1721    6.8    43000.0       952    1683   \n",
       "272   2909       6      9  1982      1525    3.9     2300.0       261      55   \n",
       "3203  4966       5      4  1997      2152    5.7     5800.0       651     161   \n",
       "\n",
       "      star  country     budget       gross  company  runtime  yearcorrect  \n",
       "5445  1534       47  237000000  2847246203     1382    162.0         2009  \n",
       "7445  1470       47  356000000  2797501328      983    181.0         2019  \n",
       "3045  1073       47  200000000  2201647264     1382    194.0         1997  \n",
       "6663   356       47  245000000  2069521700      945    138.0         2015  \n",
       "7244  1470       47  321000000  2048359754      983    149.0         2018  \n",
       "...    ...      ...        ...         ...      ...      ...          ...  \n",
       "5640  1498       47    3000000        5073     1385     96.0         2015  \n",
       "2434   186       47    5000000        2970     1376     97.0         1994  \n",
       "3681   527        6    5000000        2554      466    108.0         2001  \n",
       "272   1473       47     800000        2270      582     85.0         1982  \n",
       "3203  1811       47   15000000         309      504     85.0         1997  \n",
       "\n",
       "[5421 rows x 16 columns]"
      ]
     },
     "execution_count": 23,
     "metadata": {},
     "output_type": "execute_result"
    }
   ],
   "source": [
    "df1"
   ]
  },
  {
   "cell_type": "code",
   "execution_count": 24,
   "id": "cf3c80db",
   "metadata": {},
   "outputs": [
    {
     "data": {
      "text/plain": [
       "Text(0.5, 1.0, 'Correlation Matrix for Numeric Features')"
      ]
     },
     "execution_count": 24,
     "metadata": {},
     "output_type": "execute_result"
    },
    {
     "data": {
      "image/png": "[encoded data removed]",
      "text/plain": [
       "<Figure size 1152x720 with 2 Axes>"
      ]
     },
     "metadata": {
      "needs_background": "light"
     },
     "output_type": "display_data"
    }
   ],
   "source": [
    "#Correlation matrix\n",
    "plt.figure(figsize=(16,10))\n",
    "sns.heatmap(df1_numerized.corr(method='pearson'), annot=True, cmap='viridis')\n",
    "plt.title('Correlation Matrix for Numeric Features')"
   ]
  },
  {
   "cell_type": "code",
   "execution_count": 25,
   "id": "83536e09",
   "metadata": {},
   "outputs": [
    {
     "data": {
      "text/plain": [
       "name  name        1.000000\n",
       "      rating     -0.029234\n",
       "      genre       0.010996\n",
       "      year        0.025542\n",
       "      released   -0.006152\n",
       "dtype: float64"
      ]
     },
     "execution_count": 25,
     "metadata": {},
     "output_type": "execute_result"
    }
   ],
   "source": [
    "correlation_mat = df1_numerized.corr()\n",
    "corr_pairs = correlation_mat.unstack()\n",
    "corr_pairs.head()"
   ]
  },
  {
   "cell_type": "code",
   "execution_count": 26,
   "id": "db6c88b0",
   "metadata": {},
   "outputs": [
    {
     "data": {
      "text/plain": [
       "genre   budget   -0.368523\n",
       "budget  genre    -0.368523\n",
       "gross   genre    -0.244101\n",
       "genre   gross    -0.244101\n",
       "rating  budget   -0.203946\n",
       "dtype: float64"
      ]
     },
     "execution_count": 26,
     "metadata": {},
     "output_type": "execute_result"
    }
   ],
   "source": [
    "sorted_pairs = corr_pairs.sort_values()\n",
    "sorted_pairs.head()"
   ]
  },
  {
   "cell_type": "code",
   "execution_count": 27,
   "id": "3fed031a",
   "metadata": {},
   "outputs": [
    {
     "data": {
      "text/plain": [
       "gross   votes          0.614751\n",
       "votes   gross          0.614751\n",
       "gross   budget         0.740247\n",
       "budget  gross          0.740247\n",
       "year    yearcorrect    0.998726\n",
       "dtype: float64"
      ]
     },
     "execution_count": 27,
     "metadata": {},
     "output_type": "execute_result"
    }
   ],
   "source": [
    "high_corr = sorted_pairs[(sorted_pairs) > 0.5]\n",
    "high_corr.head()"
   ]
  },
  {
   "cell_type": "markdown",
   "id": "be629f96",
   "metadata": {},
   "source": [
    "From the above exercise, we can infer that votes and budget have the highest correlation to gross earnings"
   ]
  },
  {
   "cell_type": "code",
   "execution_count": 30,
   "id": "e84e6af2",
   "metadata": {},
   "outputs": [
    {
     "data": {
      "text/plain": [
       "<AxesSubplot:>"
      ]
     },
     "execution_count": 30,
     "metadata": {},
     "output_type": "execute_result"
    },
    {
     "data": {
      "image/png": "[encoded data removed]",
      "text/plain": [
       "<Figure size 432x288 with 1 Axes>"
      ]
     },
     "metadata": {
      "needs_background": "light"
     },
     "output_type": "display_data"
    }
   ],
   "source": [
    "#Alternative way of visualizing correlation\n",
    "df1.corr()['gross'].sort_values()[:-1].plot(kind='bar')"
   ]
  },
  {
   "cell_type": "code",
   "execution_count": null,
   "id": "b095d726",
   "metadata": {},
   "outputs": [],
   "source": []
  }
 ],
 "metadata": {
  "kernelspec": {
   "display_name": "Python 3 (ipykernel)",
   "language": "python",
   "name": "python3"
  },
  "language_info": {
   "codemirror_mode": {
    "name": "ipython",
    "version": 3
   },
   "file_extension": ".py",
   "mimetype": "text/x-python",
   "name": "python",
   "nbconvert_exporter": "python",
   "pygments_lexer": "ipython3",
   "version": "3.9.12"
  }
 },
 "nbformat": 4,
 "nbformat_minor": 5
}
